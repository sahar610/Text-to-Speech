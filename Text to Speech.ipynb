{
 "cells": [
  {
   "cell_type": "code",
   "execution_count": 1,
   "id": "960e5726",
   "metadata": {},
   "outputs": [
    {
     "name": "stdout",
     "output_type": "stream",
     "text": [
      "Requirement already satisfied: ibm_watson in c:\\users\\sahar\\appdata\\local\\programs\\python\\python39\\lib\\site-packages (5.2.2)\n",
      "Requirement already satisfied: python-dateutil>=2.5.3 in c:\\users\\sahar\\appdata\\local\\programs\\python\\python39\\lib\\site-packages (from ibm_watson) (2.8.2)\n",
      "Requirement already satisfied: requests<3.0,>=2.0 in c:\\users\\sahar\\appdata\\local\\programs\\python\\python39\\lib\\site-packages (from ibm_watson) (2.26.0)\n",
      "Requirement already satisfied: websocket-client==1.1.0 in c:\\users\\sahar\\appdata\\local\\programs\\python\\python39\\lib\\site-packages (from ibm_watson) (1.1.0)\n",
      "Requirement already satisfied: ibm-cloud-sdk-core==3.*,>=3.3.6 in c:\\users\\sahar\\appdata\\local\\programs\\python\\python39\\lib\\site-packages (from ibm_watson) (3.10.1)\n",
      "Requirement already satisfied: PyJWT<3.0.0,>=2.0.1 in c:\\users\\sahar\\appdata\\local\\programs\\python\\python39\\lib\\site-packages (from ibm-cloud-sdk-core==3.*,>=3.3.6->ibm_watson) (2.1.0)\n",
      "Requirement already satisfied: six>=1.5 in c:\\users\\sahar\\appdata\\local\\programs\\python\\python39\\lib\\site-packages (from python-dateutil>=2.5.3->ibm_watson) (1.16.0)\n",
      "Requirement already satisfied: certifi>=2017.4.17 in c:\\users\\sahar\\appdata\\local\\programs\\python\\python39\\lib\\site-packages (from requests<3.0,>=2.0->ibm_watson) (2021.5.30)\n",
      "Requirement already satisfied: urllib3<1.27,>=1.21.1 in c:\\users\\sahar\\appdata\\local\\programs\\python\\python39\\lib\\site-packages (from requests<3.0,>=2.0->ibm_watson) (1.26.6)\n",
      "Requirement already satisfied: charset-normalizer~=2.0.0 in c:\\users\\sahar\\appdata\\local\\programs\\python\\python39\\lib\\site-packages (from requests<3.0,>=2.0->ibm_watson) (2.0.4)\n",
      "Requirement already satisfied: idna<4,>=2.5 in c:\\users\\sahar\\appdata\\local\\programs\\python\\python39\\lib\\site-packages (from requests<3.0,>=2.0->ibm_watson) (3.2)\n"
     ]
    }
   ],
   "source": [
    "!pip install ibm_watson"
   ]
  },
  {
   "cell_type": "code",
   "execution_count": 2,
   "id": "e071b7d8",
   "metadata": {},
   "outputs": [],
   "source": [
    "url = 'https://api.au-syd.text-to-speech.watson.cloud.ibm.com/instances/6919f6b5-9a91-47c4-b546-c5d241d3aa07'\n",
    "apikey = 'KT5fpW58KDtIEaSGHmYpdHuIxI8cSnd5xWVbXI4VsOFn'"
   ]
  },
  {
   "cell_type": "code",
   "execution_count": 3,
   "id": "9b156745",
   "metadata": {},
   "outputs": [],
   "source": [
    "from ibm_watson import TextToSpeechV1\n",
    "from ibm_cloud_sdk_core.authenticators import IAMAuthenticator"
   ]
  },
  {
   "cell_type": "code",
   "execution_count": 4,
   "id": "78edc059",
   "metadata": {},
   "outputs": [],
   "source": [
    "# Setup Service\n",
    "authenticator = IAMAuthenticator(apikey)\n",
    "tts = TextToSpeechV1(authenticator=authenticator)\n",
    "tts.set_service_url(url)"
   ]
  },
  {
   "cell_type": "code",
   "execution_count": 5,
   "id": "9540d086",
   "metadata": {},
   "outputs": [],
   "source": [
    "with open('./speech.mp3', 'wb') as audio_file:\n",
    "    res = tts.synthesize('Hello World!', accept='audio/mp3', voice='en-US_AllisonV3Voice').get_result()\n",
    "    audio_file.write(res.content)"
   ]
  },
  {
   "cell_type": "code",
   "execution_count": 6,
   "id": "4d54d38c",
   "metadata": {},
   "outputs": [],
   "source": [
    "with open('oneday.txt', 'r') as f:\n",
    "    text = f.readlines()"
   ]
  },
  {
   "cell_type": "code",
   "execution_count": 7,
   "id": "e1e7ef19",
   "metadata": {},
   "outputs": [
    {
     "data": {
      "text/plain": [
       "['* recording\\n',\n",
       " 'why \\n',\n",
       " 'one \\n',\n",
       " 'one \\n',\n",
       " 'one day \\n',\n",
       " 'one day \\n',\n",
       " 'one day \\n',\n",
       " 'one day \\n',\n",
       " 'one day I \\n',\n",
       " 'one day ago \\n',\n",
       " 'one day return \\n',\n",
       " 'one day your dream \\n',\n",
       " 'one day your dream \\n',\n",
       " 'one day your dreams \\n',\n",
       " 'one day your dreams \\n',\n",
       " 'one day your dreams were \\n',\n",
       " 'one day your dreams will \\n',\n",
       " 'one day your dreams will \\n',\n",
       " 'one day your dreams will come \\n',\n",
       " 'one day your dreams will come \\n',\n",
       " 'one day your dreams will come \\n',\n",
       " 'one day your dreams will come \\n',\n",
       " 'one day your dreams will come to \\n',\n",
       " 'one day your dreams will come true \\n',\n",
       " 'one day your dreams will come true \\n',\n",
       " 'one day your dreams will come true \\n',\n",
       " 'one day your dreams will come true \\n',\n",
       " 'one day your dreams will come true \\n',\n",
       " 'one day your dreams will come true \\n',\n",
       " 'one day your dreams will come true \\n',\n",
       " 'one day your dreams will come true just \\n',\n",
       " 'one day your dreams will come true just \\n',\n",
       " 'one day your dreams will come true just \\n',\n",
       " 'one day your dreams will come true just give \\n',\n",
       " 'one day your dreams will come true just keep \\n',\n",
       " 'one day your dreams will come true just keep \\n',\n",
       " 'one day your dreams will come true just keep \\n',\n",
       " 'one day your dreams will come true just keep going \\n',\n",
       " 'one day your dreams will come true just keep going \\n',\n",
       " 'one day your dreams will come true just keep going \\n',\n",
       " 'one day your dreams will come true just keep going \\n',\n",
       " 'one day your dreams will come true just keep going \\n',\n",
       " 'one day your dreams will come true just keep going \\n',\n",
       " 'one day your dreams will come true just keep going \\n',\n",
       " 'one day your dreams will come true just keep going \\n',\n",
       " 'one day your dreams will come true just keep going \\n',\n",
       " '* done recording']"
      ]
     },
     "execution_count": 7,
     "metadata": {},
     "output_type": "execute_result"
    }
   ],
   "source": [
    "text"
   ]
  },
  {
   "cell_type": "code",
   "execution_count": 8,
   "id": "4c493e03",
   "metadata": {},
   "outputs": [],
   "source": [
    "text = [line.replace('\\n','') for line in text]\n",
    "text = ''.join(str(line) for line in text)"
   ]
  },
  {
   "cell_type": "code",
   "execution_count": 9,
   "id": "42967390",
   "metadata": {},
   "outputs": [
    {
     "data": {
      "text/plain": [
       "'* recordingwhy one one one day one day one day one day one day I one day ago one day return one day your dream one day your dream one day your dreams one day your dreams one day your dreams were one day your dreams will one day your dreams will one day your dreams will come one day your dreams will come one day your dreams will come one day your dreams will come one day your dreams will come to one day your dreams will come true one day your dreams will come true one day your dreams will come true one day your dreams will come true one day your dreams will come true one day your dreams will come true one day your dreams will come true one day your dreams will come true just one day your dreams will come true just one day your dreams will come true just one day your dreams will come true just give one day your dreams will come true just keep one day your dreams will come true just keep one day your dreams will come true just keep one day your dreams will come true just keep going one day your dreams will come true just keep going one day your dreams will come true just keep going one day your dreams will come true just keep going one day your dreams will come true just keep going one day your dreams will come true just keep going one day your dreams will come true just keep going one day your dreams will come true just keep going one day your dreams will come true just keep going * done recording'"
      ]
     },
     "execution_count": 9,
     "metadata": {},
     "output_type": "execute_result"
    }
   ],
   "source": [
    "text"
   ]
  },
  {
   "cell_type": "code",
   "execution_count": 10,
   "id": "560eb7d2",
   "metadata": {},
   "outputs": [],
   "source": [
    "with open('./oneday.mp3', 'wb') as audio_file:\n",
    "    res = tts.synthesize(text, accept='audio/mp3', voice='en-GB_JamesV3Voice').get_result()\n",
    "    audio_file.write(res.content)"
   ]
  },
  {
   "cell_type": "code",
   "execution_count": 11,
   "id": "c537d4c6",
   "metadata": {},
   "outputs": [],
   "source": [
    "voice = 'fr-FR_ReneeV3Voice'"
   ]
  },
  {
   "cell_type": "code",
   "execution_count": 15,
   "id": "3cf6b4f3",
   "metadata": {},
   "outputs": [],
   "source": [
    "frere = \"\"\"Frère Jacques\n",
    "    Frère Jacques\n",
    "    Dormez-vous?\n",
    "    Dormez-vous?\n",
    "    Sonnez les matines.\n",
    "    Sonnez les matines.\n",
    "    Ding, ding, dong.\n",
    "    Ding, ding, dong.\n",
    "    Frère Jacques.\n",
    "    Frère Jacques.\n",
    "    Dormez-vous?\n",
    "    Dormez-vous?\n",
    "    Sonnez les matines.\n",
    "    Sonnez les matines.\n",
    "    Ding, ding, dong.\n",
    "    Ding, ding, dong.\n",
    "    Ding, ding, dong.\n",
    "    Ding, ding, dong.\"\"\""
   ]
  },
  {
   "cell_type": "code",
   "execution_count": 14,
   "id": "e3a0d828",
   "metadata": {},
   "outputs": [],
   "source": [
    "with open('./frerchconv.mp3', 'wb') as audio_file:\n",
    "    res = tts.synthesize(frere, accept='audio/mp3', voice='fr-FR_ReneeV3Voice').get_result()\n",
    "    audio_file.write(res.content)"
   ]
  },
  {
   "cell_type": "code",
   "execution_count": null,
   "id": "889ef53d",
   "metadata": {},
   "outputs": [],
   "source": []
  }
 ],
 "metadata": {
  "kernelspec": {
   "display_name": "Python 3 (ipykernel)",
   "language": "python",
   "name": "python3"
  },
  "language_info": {
   "codemirror_mode": {
    "name": "ipython",
    "version": 3
   },
   "file_extension": ".py",
   "mimetype": "text/x-python",
   "name": "python",
   "nbconvert_exporter": "python",
   "pygments_lexer": "ipython3",
   "version": "3.9.6"
  }
 },
 "nbformat": 4,
 "nbformat_minor": 5
}
